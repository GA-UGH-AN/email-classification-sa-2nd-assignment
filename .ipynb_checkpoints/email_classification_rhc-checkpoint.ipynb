{
 "cells": [
  {
   "cell_type": "code",
   "execution_count": 1,
   "id": "e47a73bf-8733-46c5-87fd-e84daa365b42",
   "metadata": {},
   "outputs": [],
   "source": [
    "import pandas as pd"
   ]
  },
  {
   "cell_type": "code",
   "execution_count": 2,
   "id": "069844fd-d820-4d57-adb5-7f41f9328584",
   "metadata": {},
   "outputs": [
    {
     "data": {
      "text/html": [
       "<div>\n",
       "<style scoped>\n",
       "    .dataframe tbody tr th:only-of-type {\n",
       "        vertical-align: middle;\n",
       "    }\n",
       "\n",
       "    .dataframe tbody tr th {\n",
       "        vertical-align: top;\n",
       "    }\n",
       "\n",
       "    .dataframe thead th {\n",
       "        text-align: right;\n",
       "    }\n",
       "</style>\n",
       "<table border=\"1\" class=\"dataframe\">\n",
       "  <thead>\n",
       "    <tr style=\"text-align: right;\">\n",
       "      <th></th>\n",
       "      <th>Category</th>\n",
       "      <th>Message</th>\n",
       "    </tr>\n",
       "  </thead>\n",
       "  <tbody>\n",
       "    <tr>\n",
       "      <th>0</th>\n",
       "      <td>ham</td>\n",
       "      <td>Go until jurong point, crazy.. Available only ...</td>\n",
       "    </tr>\n",
       "    <tr>\n",
       "      <th>1</th>\n",
       "      <td>ham</td>\n",
       "      <td>Ok lar... Joking wif u oni...</td>\n",
       "    </tr>\n",
       "    <tr>\n",
       "      <th>2</th>\n",
       "      <td>spam</td>\n",
       "      <td>Free entry in 2 a wkly comp to win FA Cup fina...</td>\n",
       "    </tr>\n",
       "    <tr>\n",
       "      <th>3</th>\n",
       "      <td>ham</td>\n",
       "      <td>U dun say so early hor... U c already then say...</td>\n",
       "    </tr>\n",
       "    <tr>\n",
       "      <th>4</th>\n",
       "      <td>ham</td>\n",
       "      <td>Nah I don't think he goes to usf, he lives aro...</td>\n",
       "    </tr>\n",
       "  </tbody>\n",
       "</table>\n",
       "</div>"
      ],
      "text/plain": [
       "  Category                                            Message\n",
       "0      ham  Go until jurong point, crazy.. Available only ...\n",
       "1      ham                      Ok lar... Joking wif u oni...\n",
       "2     spam  Free entry in 2 a wkly comp to win FA Cup fina...\n",
       "3      ham  U dun say so early hor... U c already then say...\n",
       "4      ham  Nah I don't think he goes to usf, he lives aro..."
      ]
     },
     "execution_count": 2,
     "metadata": {},
     "output_type": "execute_result"
    }
   ],
   "source": [
    "df = pd.read_csv(\"email.csv\")\n",
    "# df_test = pd.read_csv(\"test_emails.csv\")\n",
    "df.head()\n",
    "#Label 1 = spam, Label 0 = ham"
   ]
  },
  {
   "cell_type": "code",
   "execution_count": 3,
   "id": "65594d75-a822-47d2-9cf7-fb5bd60b4fb8",
   "metadata": {},
   "outputs": [
    {
     "data": {
      "text/plain": [
       "3"
      ]
     },
     "execution_count": 3,
     "metadata": {},
     "output_type": "execute_result"
    }
   ],
   "source": [
    "#Check for unique labels. It is expected to be 2, spam and ham\n",
    "df['Category'].nunique()"
   ]
  },
  {
   "cell_type": "code",
   "execution_count": 4,
   "id": "3ed6292e-9ed7-4d89-9a90-c3f5743748b8",
   "metadata": {},
   "outputs": [
    {
     "data": {
      "text/plain": [
       "2"
      ]
     },
     "execution_count": 4,
     "metadata": {},
     "output_type": "execute_result"
    }
   ],
   "source": [
    "#Remove unexpected labels\n",
    "df.Category = df.Category[(df.Category == 'ham') | (df.Category == 'spam')]\n",
    "df.Category.nunique()"
   ]
  },
  {
   "cell_type": "code",
   "execution_count": 5,
   "id": "f690d942-5861-477e-a64f-785e22147820",
   "metadata": {},
   "outputs": [
    {
     "data": {
      "text/plain": [
       "Category     True\n",
       "Message     False\n",
       "dtype: bool"
      ]
     },
     "execution_count": 5,
     "metadata": {},
     "output_type": "execute_result"
    }
   ],
   "source": [
    "#Checking for Null Values\n",
    "df.isna().any()"
   ]
  },
  {
   "cell_type": "code",
   "execution_count": 6,
   "id": "45aef8fd-e8e8-4930-a1e3-2dee74db4346",
   "metadata": {},
   "outputs": [
    {
     "data": {
      "text/plain": [
       "Category    False\n",
       "Message     False\n",
       "dtype: bool"
      ]
     },
     "execution_count": 6,
     "metadata": {},
     "output_type": "execute_result"
    }
   ],
   "source": [
    "#Remove Null Values\n",
    "df = df.dropna()\n",
    "df.isna().any()"
   ]
  },
  {
   "cell_type": "code",
   "execution_count": 7,
   "id": "2cd53169-cd1c-4c5d-878b-bbb6d0a68b46",
   "metadata": {},
   "outputs": [
    {
     "data": {
      "text/html": [
       "<div>\n",
       "<style scoped>\n",
       "    .dataframe tbody tr th:only-of-type {\n",
       "        vertical-align: middle;\n",
       "    }\n",
       "\n",
       "    .dataframe tbody tr th {\n",
       "        vertical-align: top;\n",
       "    }\n",
       "\n",
       "    .dataframe thead tr th {\n",
       "        text-align: left;\n",
       "    }\n",
       "\n",
       "    .dataframe thead tr:last-of-type th {\n",
       "        text-align: right;\n",
       "    }\n",
       "</style>\n",
       "<table border=\"1\" class=\"dataframe\">\n",
       "  <thead>\n",
       "    <tr>\n",
       "      <th></th>\n",
       "      <th colspan=\"4\" halign=\"left\">Message</th>\n",
       "    </tr>\n",
       "    <tr>\n",
       "      <th></th>\n",
       "      <th>count</th>\n",
       "      <th>unique</th>\n",
       "      <th>top</th>\n",
       "      <th>freq</th>\n",
       "    </tr>\n",
       "    <tr>\n",
       "      <th>Category</th>\n",
       "      <th></th>\n",
       "      <th></th>\n",
       "      <th></th>\n",
       "      <th></th>\n",
       "    </tr>\n",
       "  </thead>\n",
       "  <tbody>\n",
       "    <tr>\n",
       "      <th>ham</th>\n",
       "      <td>4825</td>\n",
       "      <td>4516</td>\n",
       "      <td>Sorry, I'll call later</td>\n",
       "      <td>30</td>\n",
       "    </tr>\n",
       "    <tr>\n",
       "      <th>spam</th>\n",
       "      <td>747</td>\n",
       "      <td>641</td>\n",
       "      <td>Please call our customer service representativ...</td>\n",
       "      <td>4</td>\n",
       "    </tr>\n",
       "  </tbody>\n",
       "</table>\n",
       "</div>"
      ],
      "text/plain": [
       "         Message                                                            \\\n",
       "           count unique                                                top   \n",
       "Category                                                                     \n",
       "ham         4825   4516                             Sorry, I'll call later   \n",
       "spam         747    641  Please call our customer service representativ...   \n",
       "\n",
       "               \n",
       "         freq  \n",
       "Category       \n",
       "ham        30  \n",
       "spam        4  "
      ]
     },
     "execution_count": 7,
     "metadata": {},
     "output_type": "execute_result"
    }
   ],
   "source": [
    "df.groupby(\"Category\").describe()"
   ]
  },
  {
   "cell_type": "code",
   "execution_count": 8,
   "id": "d131f10e-7018-42c4-9024-314be599fe3b",
   "metadata": {},
   "outputs": [
    {
     "data": {
      "text/html": [
       "<div>\n",
       "<style scoped>\n",
       "    .dataframe tbody tr th:only-of-type {\n",
       "        vertical-align: middle;\n",
       "    }\n",
       "\n",
       "    .dataframe tbody tr th {\n",
       "        vertical-align: top;\n",
       "    }\n",
       "\n",
       "    .dataframe thead th {\n",
       "        text-align: right;\n",
       "    }\n",
       "</style>\n",
       "<table border=\"1\" class=\"dataframe\">\n",
       "  <thead>\n",
       "    <tr style=\"text-align: right;\">\n",
       "      <th></th>\n",
       "      <th>Category</th>\n",
       "      <th>Message</th>\n",
       "    </tr>\n",
       "  </thead>\n",
       "  <tbody>\n",
       "    <tr>\n",
       "      <th>count</th>\n",
       "      <td>5572</td>\n",
       "      <td>5572</td>\n",
       "    </tr>\n",
       "    <tr>\n",
       "      <th>unique</th>\n",
       "      <td>2</td>\n",
       "      <td>5157</td>\n",
       "    </tr>\n",
       "    <tr>\n",
       "      <th>top</th>\n",
       "      <td>ham</td>\n",
       "      <td>Sorry, I'll call later</td>\n",
       "    </tr>\n",
       "    <tr>\n",
       "      <th>freq</th>\n",
       "      <td>4825</td>\n",
       "      <td>30</td>\n",
       "    </tr>\n",
       "  </tbody>\n",
       "</table>\n",
       "</div>"
      ],
      "text/plain": [
       "       Category                 Message\n",
       "count      5572                    5572\n",
       "unique        2                    5157\n",
       "top         ham  Sorry, I'll call later\n",
       "freq       4825                      30"
      ]
     },
     "execution_count": 8,
     "metadata": {},
     "output_type": "execute_result"
    }
   ],
   "source": [
    "df.describe()"
   ]
  },
  {
   "cell_type": "code",
   "execution_count": 9,
   "id": "9b5f4380-859f-4dc2-8811-d1c587a62b30",
   "metadata": {},
   "outputs": [
    {
     "data": {
      "text/html": [
       "<div>\n",
       "<style scoped>\n",
       "    .dataframe tbody tr th:only-of-type {\n",
       "        vertical-align: middle;\n",
       "    }\n",
       "\n",
       "    .dataframe tbody tr th {\n",
       "        vertical-align: top;\n",
       "    }\n",
       "\n",
       "    .dataframe thead th {\n",
       "        text-align: right;\n",
       "    }\n",
       "</style>\n",
       "<table border=\"1\" class=\"dataframe\">\n",
       "  <thead>\n",
       "    <tr style=\"text-align: right;\">\n",
       "      <th></th>\n",
       "      <th>Category</th>\n",
       "      <th>Message</th>\n",
       "      <th>Category_n</th>\n",
       "    </tr>\n",
       "  </thead>\n",
       "  <tbody>\n",
       "    <tr>\n",
       "      <th>0</th>\n",
       "      <td>ham</td>\n",
       "      <td>Go until jurong point, crazy.. Available only ...</td>\n",
       "      <td>0</td>\n",
       "    </tr>\n",
       "    <tr>\n",
       "      <th>1</th>\n",
       "      <td>ham</td>\n",
       "      <td>Ok lar... Joking wif u oni...</td>\n",
       "      <td>0</td>\n",
       "    </tr>\n",
       "    <tr>\n",
       "      <th>2</th>\n",
       "      <td>spam</td>\n",
       "      <td>Free entry in 2 a wkly comp to win FA Cup fina...</td>\n",
       "      <td>1</td>\n",
       "    </tr>\n",
       "    <tr>\n",
       "      <th>3</th>\n",
       "      <td>ham</td>\n",
       "      <td>U dun say so early hor... U c already then say...</td>\n",
       "      <td>0</td>\n",
       "    </tr>\n",
       "    <tr>\n",
       "      <th>4</th>\n",
       "      <td>ham</td>\n",
       "      <td>Nah I don't think he goes to usf, he lives aro...</td>\n",
       "      <td>0</td>\n",
       "    </tr>\n",
       "    <tr>\n",
       "      <th>...</th>\n",
       "      <td>...</td>\n",
       "      <td>...</td>\n",
       "      <td>...</td>\n",
       "    </tr>\n",
       "    <tr>\n",
       "      <th>5567</th>\n",
       "      <td>spam</td>\n",
       "      <td>This is the 2nd time we have tried 2 contact u...</td>\n",
       "      <td>1</td>\n",
       "    </tr>\n",
       "    <tr>\n",
       "      <th>5568</th>\n",
       "      <td>ham</td>\n",
       "      <td>Will ü b going to esplanade fr home?</td>\n",
       "      <td>0</td>\n",
       "    </tr>\n",
       "    <tr>\n",
       "      <th>5569</th>\n",
       "      <td>ham</td>\n",
       "      <td>Pity, * was in mood for that. So...any other s...</td>\n",
       "      <td>0</td>\n",
       "    </tr>\n",
       "    <tr>\n",
       "      <th>5570</th>\n",
       "      <td>ham</td>\n",
       "      <td>The guy did some bitching but I acted like i'd...</td>\n",
       "      <td>0</td>\n",
       "    </tr>\n",
       "    <tr>\n",
       "      <th>5571</th>\n",
       "      <td>ham</td>\n",
       "      <td>Rofl. Its true to its name</td>\n",
       "      <td>0</td>\n",
       "    </tr>\n",
       "  </tbody>\n",
       "</table>\n",
       "<p>5572 rows × 3 columns</p>\n",
       "</div>"
      ],
      "text/plain": [
       "     Category                                            Message  Category_n\n",
       "0         ham  Go until jurong point, crazy.. Available only ...           0\n",
       "1         ham                      Ok lar... Joking wif u oni...           0\n",
       "2        spam  Free entry in 2 a wkly comp to win FA Cup fina...           1\n",
       "3         ham  U dun say so early hor... U c already then say...           0\n",
       "4         ham  Nah I don't think he goes to usf, he lives aro...           0\n",
       "...       ...                                                ...         ...\n",
       "5567     spam  This is the 2nd time we have tried 2 contact u...           1\n",
       "5568      ham               Will ü b going to esplanade fr home?           0\n",
       "5569      ham  Pity, * was in mood for that. So...any other s...           0\n",
       "5570      ham  The guy did some bitching but I acted like i'd...           0\n",
       "5571      ham                         Rofl. Its true to its name           0\n",
       "\n",
       "[5572 rows x 3 columns]"
      ]
     },
     "execution_count": 9,
     "metadata": {},
     "output_type": "execute_result"
    }
   ],
   "source": [
    "#Convert Labels and creating new column. Spam = 1, Ham = 0\n",
    "df['Category_n'] = df.Category.apply(lambda x: 0 if x == 'ham' else 1)\n",
    "df"
   ]
  },
  {
   "cell_type": "code",
   "execution_count": 10,
   "id": "d59d0952-6851-49de-bf88-19717171debe",
   "metadata": {},
   "outputs": [
    {
     "data": {
      "text/plain": [
       "1978    Reply to win £100 weekly! Where will the 2006 ...\n",
       "3989    Hello. Sort of out in town already. That . So ...\n",
       "3935     How come guoyang go n tell her? Then u told her?\n",
       "4078    Hey sathya till now we dint meet not even a si...\n",
       "4086    Orange brings you ringtones from all time Char...\n",
       "                              ...                        \n",
       "3772    Hi, wlcome back, did wonder if you got eaten b...\n",
       "5191                               Sorry, I'll call later\n",
       "5226        Prabha..i'm soryda..realy..frm heart i'm sory\n",
       "5390                           Nt joking seriously i told\n",
       "860               Did he just say somebody is named tampa\n",
       "Name: Message, Length: 4457, dtype: object"
      ]
     },
     "execution_count": 10,
     "metadata": {},
     "output_type": "execute_result"
    }
   ],
   "source": [
    "from sklearn.model_selection import train_test_split\n",
    "X = df.Message\n",
    "y = df.Category_n\n",
    "\n",
    "X_train, X_test, y_train, y_test = train_test_split(X, y, test_size=0.2, random_state=42)\n",
    "X_train"
   ]
  },
  {
   "cell_type": "code",
   "execution_count": 11,
   "id": "4500b0c6-db65-4b0a-a51b-41861b6ea899",
   "metadata": {},
   "outputs": [],
   "source": [
    "# from sklearn.model_selection import train_test_split\n",
    "from sklearn.feature_extraction.text import TfidfVectorizer\n",
    "from sklearn.preprocessing import LabelEncoder\n",
    "\n",
    "# Assuming the dataset has 'text' and 'label' columns\n",
    "texts = df['Message']\n",
    "labels = df['Category']\n",
    "\n",
    "# Convert text data to numerical data using TF-IDF\n",
    "vectorizer = TfidfVectorizer(max_features=5000)  # You can adjust the number of features\n",
    "X = vectorizer.fit_transform(texts).toarray()\n",
    "\n",
    "# Encode the labels\n",
    "label_encoder = LabelEncoder()\n",
    "y = label_encoder.fit_transform(labels)\n",
    "\n",
    "# Split the dataset\n",
    "X_train, X_test, y_train, y_test = train_test_split(X, y, test_size=0.2, random_state=42)\n"
   ]
  },
  {
   "cell_type": "code",
   "execution_count": 12,
   "id": "8c327b05-dcad-446b-afb9-aea8b878b63e",
   "metadata": {},
   "outputs": [],
   "source": [
    "import mlrose_hiive\n",
    "from sklearn.metrics import accuracy_score\n",
    "from sklearn.neural_network import MLPClassifier\n",
    "import numpy as np\n",
    "\n",
    "# Define a fitness function to optimize the neural network weights\n",
    "def fitness_function(weights):\n",
    "    weights = weights.reshape((hidden_layers[0], -1))\n",
    "    mlp = MLPClassifier(hidden_layer_sizes=hidden_layers, max_iter=1)\n",
    "    mlp.fit(X_train, y_train)\n",
    "    y_pred = mlp.predict(X_train)\n",
    "    return -accuracy_score(y_train, y_pred)\n",
    "\n",
    "# # Initialize the weights with a random guess\n",
    "# input_size = X_train.shape[1]\n",
    "# hidden_layers = (100,)\n",
    "# initial_weights = np.random.rand(hidden_layers[0], input_size)\n",
    "\n",
    "# # Define the optimization problem\n",
    "# problem = mlrose_hiive.DiscreteOpt(length=initial_weights.size, fitness_fn=mlrose_hiive.CustomFitness(fitness_function), maximize=False, max_val=2)\n",
    "\n",
    "# # Perform randomized hill climbing\n",
    "# best_state, best_fitness, _ = mlrose_hiive.random_hill_climb(problem, max_attempts=100, max_iters=100, restarts=10, random_state=42)\n",
    "\n",
    "# # Reshape the optimized weights and assign to the neural network\n",
    "# optimized_weights = best_state.reshape(hidden_layers[0], -1)\n",
    "# mlp_optimized = MLPClassifier(hidden_layer_sizes=hidden_layers, max_iter=50)\n",
    "# mlp_optimized.fit(X_train, y_train)\n",
    "\n",
    "# # Evaluate the optimized model\n",
    "# y_pred_train_optimized = mlp_optimized.predict(X_train)\n",
    "# y_pred_test_optimized = mlp_optimized.predict(X_test)\n",
    "\n",
    "# train_accuracy_optimized = accuracy_score(y_train, y_pred_train_optimized)\n",
    "# test_accuracy_optimized = accuracy_score(y_test, y_pred_test_optimized)\n",
    "\n",
    "# print(f'Optimized Training Accuracy: {train_accuracy_optimized:.4f}')\n",
    "# print(f'Optimized Testing Accuracy: {test_accuracy_optimized:.4f}')"
   ]
  },
  {
   "cell_type": "code",
   "execution_count": 13,
   "id": "e9338645-6a67-44c8-ae42-ec876fd0348b",
   "metadata": {},
   "outputs": [],
   "source": [
    "# Initialize the weights with a random guess\n",
    "input_size = X_train.shape[1]\n",
    "hidden_layers = (100,)\n",
    "initial_weights = np.random.rand(hidden_layers[0], input_size)"
   ]
  },
  {
   "cell_type": "code",
   "execution_count": 14,
   "id": "5af80bad-3413-452a-9d0e-ffd6280604d5",
   "metadata": {},
   "outputs": [],
   "source": [
    "# Define the optimization problem\n",
    "problem = mlrose_hiive.DiscreteOpt(length=initial_weights.size, fitness_fn=mlrose_hiive.CustomFitness(fitness_function), maximize=False, max_val=2)"
   ]
  },
  {
   "cell_type": "code",
   "execution_count": null,
   "id": "5c909a2f-c7c0-478e-8534-e22b35a71edd",
   "metadata": {},
   "outputs": [],
   "source": [
    "# Perform randomized hill climbing\n",
    "best_state, best_fitness, _ = mlrose_hiive.random_hill_climb(problem, max_attempts=10, max_iters=50, restarts=10, random_state=42)"
   ]
  },
  {
   "cell_type": "code",
   "execution_count": null,
   "id": "3d949289-6bad-44c9-9800-8457fefab726",
   "metadata": {},
   "outputs": [],
   "source": [
    "# Reshape the optimized weights and assign to the neural network\n",
    "optimized_weights = best_state.reshape(hidden_layers[0], -1)\n",
    "mlp_optimized = MLPClassifier(hidden_layer_sizes=hidden_layers, max_iter=50)\n",
    "mlp_optimized.fit(X_train, y_train)"
   ]
  },
  {
   "cell_type": "code",
   "execution_count": null,
   "id": "838f3068-6d08-4793-87d2-f7a5cb952466",
   "metadata": {},
   "outputs": [],
   "source": [
    "# Evaluate the optimized model\n",
    "y_pred_train_optimized = mlp_optimized.predict(X_train)\n",
    "y_pred_test_optimized = mlp_optimized.predict(X_test)"
   ]
  },
  {
   "cell_type": "code",
   "execution_count": null,
   "id": "dafa8de6-44ab-4e30-b269-3b2013f4cfd9",
   "metadata": {},
   "outputs": [],
   "source": [
    "train_accuracy_optimized = accuracy_score(y_train, y_pred_train_optimized)\n",
    "test_accuracy_optimized = accuracy_score(y_test, y_pred_test_optimized)"
   ]
  },
  {
   "cell_type": "code",
   "execution_count": null,
   "id": "6d236d01-bbe1-4102-922c-3fcc201ecb41",
   "metadata": {},
   "outputs": [],
   "source": [
    "print(f'Optimized Training Accuracy: {train_accuracy_optimized:.4f}')\n",
    "print(f'Optimized Testing Accuracy: {test_accuracy_optimized:.4f}')"
   ]
  },
  {
   "cell_type": "code",
   "execution_count": null,
   "id": "dcc8a9c5-74e7-44d7-85d9-53e573463c87",
   "metadata": {},
   "outputs": [],
   "source": [
    "# Classification report for optimized model\n",
    "print('Optimized Classification Report:')\n",
    "print(classification_report(y_test, y_pred_test_optimized, target_names=label_encoder.classes_))\n",
    "\n",
    "# Confusion matrix for optimized model\n",
    "conf_matrix_optimized = confusion_matrix(y_test, y_pred_test_optimized)\n",
    "plt.figure(figsize=(10, 7))\n",
    "sns.heatmap(conf_matrix_optimized, annot=True, fmt='d', cmap='Blues', xticklabels=label_encoder.classes_, yticklabels=label_encoder.classes_)\n",
    "plt.xlabel('Predicted')\n",
    "plt.ylabel('True')\n",
    "plt.title('Optimized Confusion Matrix')\n",
    "plt.show()\n"
   ]
  }
 ],
 "metadata": {
  "kernelspec": {
   "display_name": "Python 3 (ipykernel)",
   "language": "python",
   "name": "python3"
  },
  "language_info": {
   "codemirror_mode": {
    "name": "ipython",
    "version": 3
   },
   "file_extension": ".py",
   "mimetype": "text/x-python",
   "name": "python",
   "nbconvert_exporter": "python",
   "pygments_lexer": "ipython3",
   "version": "3.9.19"
  }
 },
 "nbformat": 4,
 "nbformat_minor": 5
}
